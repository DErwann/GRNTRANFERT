{
  "nbformat": 4,
  "nbformat_minor": 0,
  "metadata": {
    "colab": {
      "name": "PoolDitribution.ipynb",
      "provenance": []
    },
    "kernelspec": {
      "name": "python3",
      "display_name": "Python 3"
    },
    "language_info": {
      "name": "python"
    }
  },
  "cells": [
    {
      "cell_type": "code",
      "metadata": {
        "cellView": "form",
        "id": "SlIha_ci_Vov"
      },
      "source": [
        "#@title Client profile\n",
        "\n",
        "import random as rd\n",
        "import pandas as pd\n",
        "import numpy as np\n",
        "\n",
        "class Client():\n",
        "    \n",
        "    def __init__(self, name,age):\n",
        "        \n",
        "        self.name = name\n",
        "        self.age = age\n",
        "        \n",
        "    def choose_habits(self, number_limits,dict_habits):\n",
        "        \n",
        "        number_habits = rd.randint(0,number_limits)\n",
        "        habits = []\n",
        "        \n",
        "        for _ in range(number_habits):\n",
        "            \n",
        "            habit = dict_habits[rd.randint(1,len(dict_habits)-1)]\n",
        "            if habit in habits:\n",
        "                pass\n",
        "            else:\n",
        "                habits.append(habit)\n",
        "        return habits"
      ],
      "execution_count": 1,
      "outputs": []
    },
    {
      "cell_type": "code",
      "metadata": {
        "colab": {
          "base_uri": "https://localhost:8080/"
        },
        "cellView": "form",
        "id": "zVLnmSFQ_w1l",
        "outputId": "92790a2d-41e8-4c23-b635-d7ed511936f6"
      },
      "source": [
        "#@title Create Random Profiles\n",
        "\n",
        "def SelectRandomIdentity():\n",
        "  dict_name = {\n",
        "      0 : \"Etienne\",\n",
        "      1: \"Erwann\",\n",
        "      2: \"Joseph\",\n",
        "      3:\"Patrick\",\n",
        "      4:\"Jean\",\n",
        "      5:\"Louis\",\n",
        "      6:\"Antoine\"\n",
        "  }\n",
        "  random_name = dict_name[rd.randint(0,len(dict_name)-1)]\n",
        "  random_age = rd.randint(18,70)\n",
        "  return random_name,random_age\n",
        "\n",
        "dict_habits = {\n",
        "    1 : \"boulangerie\",\n",
        "    2 : \"espace vert\",\n",
        "    3 : \"bricolage\",\n",
        "    4 : \"fruitier\",\n",
        "    5 : \"restaurants\"\n",
        "}\n",
        "\n",
        "\n",
        "number_client = 100\n",
        "clients = []\n",
        "\n",
        "for _ in range(number_client):\n",
        "  name,age = SelectRandomIdentity()\n",
        "  client = Client(name,age)\n",
        "  habits = client.choose_habits(3,dict_habits)\n",
        "        \n",
        "  clients.append([client.name,client.age,habits])\n",
        "    \n",
        "df_clients = pd.DataFrame(np.array(clients),\n",
        "                   columns=['name', 'age', 'habits'])\n",
        "    \n",
        "            \n",
        "            \n",
        "        "
      ],
      "execution_count": 2,
      "outputs": [
        {
          "output_type": "stream",
          "text": [
            "/usr/local/lib/python3.7/dist-packages/ipykernel_launcher.py:36: VisibleDeprecationWarning: Creating an ndarray from ragged nested sequences (which is a list-or-tuple of lists-or-tuples-or ndarrays with different lengths or shapes) is deprecated. If you meant to do this, you must specify 'dtype=object' when creating the ndarray\n"
          ],
          "name": "stderr"
        }
      ]
    },
    {
      "cell_type": "code",
      "metadata": {
        "id": "crNb4dTGAMQ_",
        "cellView": "form"
      },
      "source": [
        "#@title Create random bills\n",
        "\n",
        "client_max_bill = 10\n",
        "average_spent = 20\n",
        "limit_spendable = 60\n",
        "bill = []\n",
        "dict_class_companies = {\n",
        "    0 : \"Alimentation\",\n",
        "    1:\"Quincaillerie\",\n",
        "    2:\"Urbain\",\n",
        "    3:'Restauration'\n",
        "}\n",
        "\n",
        "def ChooseCompany(dict_class_companies, companies_check):\n",
        "  company = dict_class_companies[rd.randint(0,len(dict_class_companies) - 1)]\n",
        "  if len(dict_class_companies) > 1:\n",
        "    while company in companies_check: # check if the company category is already used\n",
        "      company = dict_class_companies[rd.randint(0,len(dict_class_companies) - 1)]\n",
        "      print(companies_check)\n",
        "    companies_check.append(company)\n",
        "  return company\n",
        "  \n",
        "\n",
        "\n",
        "for _ in range(len(df_clients)):\n",
        "\n",
        "  number_bill = rd.randint(0,client_max_bill)\n",
        "  client_bill = {}\n",
        "  \n",
        "  for _ in range(number_bill):\n",
        "    amount_spent = rd.gauss(average_spent,15)\n",
        "    if amount_spent > limit_spendable :\n",
        "      amount_spent = limit_spendable\n",
        "    elif amount_spent <= 0:\n",
        "      amount_spent = 1\n",
        "    companies_check = []\n",
        "    company = ChooseCompany(dict_class_companies, companies_check)\n",
        "    \n",
        "    \n",
        "\n",
        "    client_bill[company] = amount_spent\n",
        "  bill.append(client_bill)\n",
        "\n",
        "df_clients[\"bills\"] = bill"
      ],
      "execution_count": 3,
      "outputs": []
    },
    {
      "cell_type": "code",
      "metadata": {
        "colab": {
          "base_uri": "https://localhost:8080/"
        },
        "id": "DMa7WVVGVHSu",
        "cellView": "form",
        "outputId": "ddbe828f-6054-454b-cebf-494a7db7714c"
      },
      "source": [
        "#@title Define categories of the habits\n",
        "\n",
        "def AttributeCategory(habit):\n",
        "\n",
        "  # Amélioration possible : ici on est obligé de définir manuellement les catégories des habitudes\n",
        "  dict_habit2category = {\n",
        "    \"boulangerie\" : \"Alimentation\",\n",
        "    \"espace vert\": \"Urbain\",\n",
        "    \"bricolage\": \"Quincaillerie\",\n",
        "    \"fruitier\" : \"Alimentation\",\n",
        "    \"restaurants\": \"Restauration\"\n",
        "  }\n",
        "\n",
        "  try :\n",
        "    return dict_habit2category[habit]\n",
        "  except:\n",
        "    return None\n",
        "  habits_key = dict_habits.values()\n",
        "  class_companies_values = dict_class_companies.values()\n",
        "\n",
        "def Convert_habit2Category(clients_habits):\n",
        "  habits2categories_list = []\n",
        "  for client_habits in clients_habits:\n",
        "    habits_categories = []\n",
        "    for habit in client_habits:\n",
        "      habit_category = AttributeCategory(habit)\n",
        "      habits_categories.append(habit_category)\n",
        "    \n",
        "    habits2categories_list.append(habits_categories)\n",
        "  \n",
        "  df_clients[\"habits_categories\"] = np.array(habits2categories_list)\n",
        "\n",
        "\n",
        "Convert_habit2Category(df_clients[\"habits\"])\n"
      ],
      "execution_count": 4,
      "outputs": [
        {
          "output_type": "stream",
          "text": [
            "/usr/local/lib/python3.7/dist-packages/ipykernel_launcher.py:31: VisibleDeprecationWarning: Creating an ndarray from ragged nested sequences (which is a list-or-tuple of lists-or-tuples-or ndarrays with different lengths or shapes) is deprecated. If you meant to do this, you must specify 'dtype=object' when creating the ndarray\n"
          ],
          "name": "stderr"
        }
      ]
    },
    {
      "cell_type": "code",
      "metadata": {
        "colab": {
          "base_uri": "https://localhost:8080/",
          "height": 204
        },
        "id": "9Zu4bs9Uxm7s",
        "cellView": "form",
        "outputId": "8aee4643-6a33-4d23-d63d-f17ff09c0766"
      },
      "source": [
        "#@title Estimate preferences\n",
        "# Habits have a greater importance than the bills\n",
        "# We accord 60% for the habits and 40% for the bills\n",
        "habits_importance = 0.60 #@param\n",
        "def EstimateHabitsWeight(category, habits):\n",
        "  if category in habits:# We check if the client like this category\n",
        "    weight = 1/len(habits)\n",
        "    return weight\n",
        "  else:\n",
        "    return 0\n",
        "\n",
        "def EstimateBillsWeight(category, bill):\n",
        "  categories_in_bill = bill.keys() #What categories are present into the bill\n",
        "  if category in categories_in_bill:\n",
        "    total_spent = sum(bill.values())\n",
        "    weight = bill[category] / total_spent\n",
        "    return weight\n",
        "  else:\n",
        "    return 0 \n",
        "\n",
        "Clients_preferences = []\n",
        "\n",
        "for i in range(len(df_clients)):\n",
        "  Client_preferences = [[dict_class_companies[j],0] for j in range(len(dict_class_companies))] # Preferences initatilisation\n",
        "  Client_estimations = {}\n",
        "\n",
        "  for j in range(len(Client_preferences)):\n",
        "    Habits_estimation = EstimateHabitsWeight(Client_preferences[j][0], df_clients[\"habits_categories\"][i])\n",
        "    Bills_estimation = EstimateBillsWeight(Client_preferences[j][0],df_clients[\"bills\"][i])\n",
        "    Client_estimations[Client_preferences[j][0]] = Habits_estimation*habits_importance + (1-habits_importance)*Bills_estimation\n",
        "  \n",
        "  Clients_preferences.append(Client_estimations)\n",
        "df_clients[\"Preferences\"] = Clients_preferences\n",
        "df_clients.head()"
      ],
      "execution_count": 5,
      "outputs": [
        {
          "output_type": "execute_result",
          "data": {
            "text/html": [
              "<div>\n",
              "<style scoped>\n",
              "    .dataframe tbody tr th:only-of-type {\n",
              "        vertical-align: middle;\n",
              "    }\n",
              "\n",
              "    .dataframe tbody tr th {\n",
              "        vertical-align: top;\n",
              "    }\n",
              "\n",
              "    .dataframe thead th {\n",
              "        text-align: right;\n",
              "    }\n",
              "</style>\n",
              "<table border=\"1\" class=\"dataframe\">\n",
              "  <thead>\n",
              "    <tr style=\"text-align: right;\">\n",
              "      <th></th>\n",
              "      <th>name</th>\n",
              "      <th>age</th>\n",
              "      <th>habits</th>\n",
              "      <th>bills</th>\n",
              "      <th>habits_categories</th>\n",
              "      <th>Preferences</th>\n",
              "    </tr>\n",
              "  </thead>\n",
              "  <tbody>\n",
              "    <tr>\n",
              "      <th>0</th>\n",
              "      <td>Louis</td>\n",
              "      <td>23</td>\n",
              "      <td>[espace vert, bricolage]</td>\n",
              "      <td>{'Restauration': 9.895303569430741}</td>\n",
              "      <td>[Urbain, Quincaillerie]</td>\n",
              "      <td>{'Alimentation': 0.0, 'Quincaillerie': 0.3, 'U...</td>\n",
              "    </tr>\n",
              "    <tr>\n",
              "      <th>1</th>\n",
              "      <td>Jean</td>\n",
              "      <td>61</td>\n",
              "      <td>[espace vert, boulangerie, fruitier]</td>\n",
              "      <td>{'Alimentation': 23.807673802341235, 'Restaura...</td>\n",
              "      <td>[Urbain, Alimentation, Alimentation]</td>\n",
              "      <td>{'Alimentation': 0.28863004126480246, 'Quincai...</td>\n",
              "    </tr>\n",
              "    <tr>\n",
              "      <th>2</th>\n",
              "      <td>Patrick</td>\n",
              "      <td>48</td>\n",
              "      <td>[]</td>\n",
              "      <td>{'Alimentation': 24.182453147665242, 'Quincail...</td>\n",
              "      <td>[]</td>\n",
              "      <td>{'Alimentation': 0.22803523986822638, 'Quincai...</td>\n",
              "    </tr>\n",
              "    <tr>\n",
              "      <th>3</th>\n",
              "      <td>Joseph</td>\n",
              "      <td>48</td>\n",
              "      <td>[]</td>\n",
              "      <td>{'Quincaillerie': 23.90993889744203}</td>\n",
              "      <td>[]</td>\n",
              "      <td>{'Alimentation': 0.0, 'Quincaillerie': 0.4, 'U...</td>\n",
              "    </tr>\n",
              "    <tr>\n",
              "      <th>4</th>\n",
              "      <td>Patrick</td>\n",
              "      <td>46</td>\n",
              "      <td>[espace vert, bricolage]</td>\n",
              "      <td>{'Quincaillerie': 11.573782100211721, 'Urbain'...</td>\n",
              "      <td>[Urbain, Quincaillerie]</td>\n",
              "      <td>{'Alimentation': 0.009181418447526379, 'Quinca...</td>\n",
              "    </tr>\n",
              "  </tbody>\n",
              "</table>\n",
              "</div>"
            ],
            "text/plain": [
              "      name  ...                                        Preferences\n",
              "0    Louis  ...  {'Alimentation': 0.0, 'Quincaillerie': 0.3, 'U...\n",
              "1     Jean  ...  {'Alimentation': 0.28863004126480246, 'Quincai...\n",
              "2  Patrick  ...  {'Alimentation': 0.22803523986822638, 'Quincai...\n",
              "3   Joseph  ...  {'Alimentation': 0.0, 'Quincaillerie': 0.4, 'U...\n",
              "4  Patrick  ...  {'Alimentation': 0.009181418447526379, 'Quinca...\n",
              "\n",
              "[5 rows x 6 columns]"
            ]
          },
          "metadata": {
            "tags": []
          },
          "execution_count": 5
        }
      ]
    },
    {
      "cell_type": "code",
      "metadata": {
        "colab": {
          "base_uri": "https://localhost:8080/",
          "height": 253
        },
        "cellView": "form",
        "id": "VBIwN2zD73TI",
        "outputId": "615ec4ae-d9f7-4e50-a633-400655acc454"
      },
      "source": [
        "#@title Global Preferences Estimation\n",
        "import seaborn as sns\n",
        "import matplotlib.pyplot as plt\n",
        "\n",
        "Client_weight = 10 # Un client possède n \"jetons\" à dispatcher selon ses préférences\n",
        "\n",
        "# Initialisation\n",
        "total_categories_preferences_keys = [dict_class_companies[j] for j in range(len(dict_class_companies))]\n",
        "total_categories_preferences_values = [0 for j in range(len(dict_class_companies))]\n",
        "total_categories_preferences = zip(total_categories_preferences_keys,total_categories_preferences_values)\n",
        "total_categories_preferences = dict(total_categories_preferences)\n",
        "\n",
        "\n",
        "for i in range(len(df_clients)):\n",
        "  client_pref = df_clients[\"Preferences\"][i]\n",
        "  for keys in total_categories_preferences.keys():\n",
        "    total_categories_preferences[keys] += client_pref[keys]\n",
        "\n",
        "#Convert into a pourcentage\n",
        "sum_total = sum(total_categories_preferences.values())\n",
        "for total_key in total_categories_preferences.keys():\n",
        "  total_categories_preferences[total_key] = total_categories_preferences[total_key]/sum_total\n",
        "\n",
        "# Ploting the data\n",
        "name = total_categories_preferences.keys()\n",
        "data = total_categories_preferences.values()\n",
        "\n",
        "plt.pie(data, labels=name, autopct='%1.1f%%', startangle=90, shadow=True)\n",
        "plt.axis('equal')\n",
        "plt.show()"
      ],
      "execution_count": 6,
      "outputs": [
        {
          "output_type": "display_data",
          "data": {
            "image/png": "[encoded data removed]",
            "text/plain": [
              "<Figure size 432x288 with 1 Axes>"
            ]
          },
          "metadata": {
            "tags": []
          }
        }
      ]
    }
  ]
}